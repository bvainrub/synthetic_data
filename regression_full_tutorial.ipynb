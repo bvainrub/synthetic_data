{
 "cells": [
  {
   "cell_type": "markdown",
   "id": "85e3a78c",
   "metadata": {},
   "source": [
    "# 📘 Учебник по регрессии для дата-аналитика\n",
    "Этот ноутбук содержит **20 практических примеров регрессии**.\n",
    "\n",
    "Для каждого примера даётся:\n",
    "- Теоретическое пояснение\n",
    "- Код (Python, sklearn)\n",
    "- Задание для самостоятельной практики\n",
    "\n",
    "---"
   ]
  },
  {
   "cell_type": "markdown",
   "id": "f5aae1a9",
   "metadata": {},
   "source": [
    "## 📌 Пример 1. Простая линейная регрессия\n",
    "\n",
    "**Теория:** Мы ищем зависимость между ценой и продажами."
   ]
  },
  {
   "cell_type": "code",
   "execution_count": 21,
   "id": "726dd34f",
   "metadata": {},
   "outputs": [
    {
     "name": "stdout",
     "output_type": "stream",
     "text": [
      "Коэффициент: [-1.]\n",
      "Свободный член: 6.0\n"
     ]
    },
    {
     "data": {
      "image/png": "[encoded data removed]",
      "text/plain": [
       "<Figure size 640x480 with 1 Axes>"
      ]
     },
     "metadata": {},
     "output_type": "display_data"
    }
   ],
   "source": [
    "import numpy as np\n",
    "import matplotlib.pyplot as plt\n",
    "from sklearn.linear_model import LinearRegression\n",
    "\n",
    "X = np.array([1, 2, 3, 4, 5]).reshape(-1, 1)\n",
    "y = np.array([5, 4, 3, 2, 1])\n",
    "\n",
    "model = LinearRegression().fit(X, y)\n",
    "\n",
    "print(\"Коэффициент:\", model.coef_)\n",
    "print(\"Свободный член:\", model.intercept_)\n",
    "\n",
    "plt.scatter(X, y, color=\"blue\")\n",
    "plt.plot(X, model.predict(X), color=\"red\")\n",
    "plt.title(\"Простая линейная регрессия\")\n",
    "plt.show()"
   ]
  },
  {
   "cell_type": "markdown",
   "id": "ad433a8b",
   "metadata": {},
   "source": [
    "**Задание:** Измени данные так, чтобы зависимость стала положительной (прямо пропорциональной)."
   ]
  },
  {
   "cell_type": "markdown",
   "id": "940690e9",
   "metadata": {},
   "source": [
    "## 📌 Пример 2. Линейная регрессия с предсказанием\n",
    "\n",
    "**Теория:** Модель учится находить формулу и предсказывать новые значения."
   ]
  },
  {
   "cell_type": "code",
   "execution_count": 22,
   "id": "e12a2133",
   "metadata": {},
   "outputs": [
    {
     "name": "stdout",
     "output_type": "stream",
     "text": [
      "Предсказание для x=6: [12.]\n"
     ]
    }
   ],
   "source": [
    "X = np.array([1, 2, 3, 4, 5]).reshape(-1, 1)\n",
    "y = np.array([2, 4, 6, 8, 10])\n",
    "\n",
    "model = LinearRegression().fit(X, y)\n",
    "print(\"Предсказание для x=6:\", model.predict([[6]]))"
   ]
  },
  {
   "cell_type": "markdown",
   "id": "2bbf3185",
   "metadata": {},
   "source": [
    "**Задание:** Поменяй зависимость на `y = 3x` и проверь предсказание для x=7."
   ]
  },
  {
   "cell_type": "markdown",
   "id": "610de086",
   "metadata": {},
   "source": [
    "## 📌 Пример 3. Множественная линейная регрессия\n",
    "\n",
    "**Теория:** Теперь у нас два признака, и модель ищет веса для обоих."
   ]
  },
  {
   "cell_type": "code",
   "execution_count": 23,
   "id": "db0281aa",
   "metadata": {},
   "outputs": [
    {
     "name": "stdout",
     "output_type": "stream",
     "text": [
      "Коэффициенты: [1. 1.]\n",
      "Интерсепт: 1.7763568394002505e-15\n"
     ]
    }
   ],
   "source": [
    "X = np.array([[1, 1], [2, 2], [3, 3], [4, 4]])\n",
    "y = np.array([2, 4, 6, 8])\n",
    "\n",
    "model = LinearRegression().fit(X, y)\n",
    "print(\"Коэффициенты:\", model.coef_)\n",
    "print(\"Интерсепт:\", model.intercept_)"
   ]
  },
  {
   "cell_type": "markdown",
   "id": "22ebd0c1",
   "metadata": {},
   "source": [
    "**Задание:** Добавь третий признак и проверь коэффициенты."
   ]
  },
  {
   "cell_type": "markdown",
   "id": "fd673321",
   "metadata": {},
   "source": [
    "## 📌 Пример 4. Полиномиальная регрессия\n",
    "\n",
    "**Теория:** Используем полином 2-й степени для квадратичной зависимости."
   ]
  },
  {
   "cell_type": "code",
   "execution_count": 24,
   "id": "ca3c5817",
   "metadata": {},
   "outputs": [
    {
     "name": "stdout",
     "output_type": "stream",
     "text": [
      "Коэффициенты: [ 0.00000000e+00 -8.77076189e-15  1.00000000e+00]\n"
     ]
    }
   ],
   "source": [
    "from sklearn.preprocessing import PolynomialFeatures\n",
    "\n",
    "X = np.array([1, 2, 3, 4, 5]).reshape(-1, 1)\n",
    "y = np.array([1, 4, 9, 16, 25])\n",
    "\n",
    "poly = PolynomialFeatures(degree=2)\n",
    "X_poly = poly.fit_transform(X)\n",
    "model = LinearRegression().fit(X_poly, y)\n",
    "print(\"Коэффициенты:\", model.coef_)"
   ]
  },
  {
   "cell_type": "markdown",
   "id": "7a846b67",
   "metadata": {},
   "source": [
    "**Задание:** Попробуй построить кубическую (3-я степень) модель."
   ]
  },
  {
   "cell_type": "markdown",
   "id": "f9d8517f",
   "metadata": {},
   "source": [
    "## 📌 Пример 5. Логистическая регрессия\n",
    "\n",
    "**Теория:** Используется для бинарной классификации."
   ]
  },
  {
   "cell_type": "code",
   "execution_count": 25,
   "id": "1d96777f",
   "metadata": {},
   "outputs": [
    {
     "name": "stdout",
     "output_type": "stream",
     "text": [
      "Предсказание для x=2.5: [0]\n"
     ]
    }
   ],
   "source": [
    "from sklearn.linear_model import LogisticRegression\n",
    "\n",
    "X = np.array([[1], [2], [3], [4], [5]])\n",
    "y = np.array([0, 0, 0, 1, 1])\n",
    "\n",
    "clf = LogisticRegression().fit(X, y)\n",
    "print(\"Предсказание для x=2.5:\", clf.predict([[2.5]]))"
   ]
  },
  {
   "cell_type": "markdown",
   "id": "534fbc4c",
   "metadata": {},
   "source": [
    "**Задание:** Смести границу: сделай, чтобы метки стали [0,0,1,1,1]."
   ]
  },
  {
   "cell_type": "markdown",
   "id": "4afdd50c",
   "metadata": {},
   "source": [
    "## 📌 Пример 6. Ridge-регрессия\n",
    "\n",
    "**Теория:** Регуляризация L2 уменьшает влияние выбросов."
   ]
  },
  {
   "cell_type": "code",
   "execution_count": 26,
   "id": "46856c4f",
   "metadata": {},
   "outputs": [
    {
     "name": "stdout",
     "output_type": "stream",
     "text": [
      "Коэффициент: [1.81818182]\n"
     ]
    }
   ],
   "source": [
    "from sklearn.linear_model import Ridge\n",
    "\n",
    "X = np.array([[1], [2], [3], [4], [5]])\n",
    "y = np.array([1, 2, 3, 4, 10])\n",
    "\n",
    "ridge = Ridge(alpha=1.0).fit(X, y)\n",
    "print(\"Коэффициент:\", ridge.coef_)"
   ]
  },
  {
   "cell_type": "markdown",
   "id": "683e0603",
   "metadata": {},
   "source": [
    "**Задание:** Попробуй увеличить alpha до 10 и посмотри результат."
   ]
  },
  {
   "cell_type": "markdown",
   "id": "7d324f79",
   "metadata": {},
   "source": [
    "## 📌 Пример 7. Lasso-регрессия\n",
    "\n",
    "**Теория:** Регуляризация L1 может занулять коэффициенты."
   ]
  },
  {
   "cell_type": "code",
   "execution_count": 27,
   "id": "ce9f07ff",
   "metadata": {},
   "outputs": [
    {
     "name": "stdout",
     "output_type": "stream",
     "text": [
      "Коэффициент: [1.95]\n"
     ]
    }
   ],
   "source": [
    "from sklearn.linear_model import Lasso\n",
    "\n",
    "lasso = Lasso(alpha=0.1).fit(X, y)\n",
    "print(\"Коэффициент:\", lasso.coef_)"
   ]
  },
  {
   "cell_type": "markdown",
   "id": "412c5707",
   "metadata": {},
   "source": [
    "**Задание:** Попробуй alpha=1.0 и сравни результат."
   ]
  },
  {
   "cell_type": "markdown",
   "id": "d08f74ef",
   "metadata": {},
   "source": [
    "## 📌 Пример 8. ElasticNet\n",
    "\n",
    "**Теория:** Сочетает свойства Lasso и Ridge."
   ]
  },
  {
   "cell_type": "code",
   "execution_count": 28,
   "id": "130c7a08",
   "metadata": {},
   "outputs": [
    {
     "name": "stdout",
     "output_type": "stream",
     "text": [
      "Коэффициент: [1.92682927]\n"
     ]
    }
   ],
   "source": [
    "from sklearn.linear_model import ElasticNet\n",
    "\n",
    "elastic = ElasticNet(alpha=0.1, l1_ratio=0.5).fit(X, y)\n",
    "print(\"Коэффициент:\", elastic.coef_)"
   ]
  },
  {
   "cell_type": "markdown",
   "id": "f2662678",
   "metadata": {},
   "source": [
    "**Задание:** Измени l1_ratio на 0.9 и сравни результат."
   ]
  },
  {
   "cell_type": "markdown",
   "id": "56a0bf72",
   "metadata": {},
   "source": [
    "## 📌 Пример 9. Регрессия с категориальными переменными\n",
    "\n",
    "**Теория:** Категории кодируются в 0/1 для использования в регрессии."
   ]
  },
  {
   "cell_type": "code",
   "execution_count": 29,
   "id": "67952eaa",
   "metadata": {},
   "outputs": [
    {
     "name": "stdout",
     "output_type": "stream",
     "text": [
      "Коэффициенты: [ 2.00000000e+00 -3.97683113e-18]\n"
     ]
    }
   ],
   "source": [
    "import pandas as pd\n",
    "\n",
    "df = pd.DataFrame({\n",
    "    \"категория\": [\"A\", \"B\", \"A\", \"B\"],\n",
    "    \"x\": [1, 2, 3, 4],\n",
    "    \"y\": [2, 4, 6, 8]\n",
    "})\n",
    "\n",
    "df = pd.get_dummies(df, columns=[\"категория\"], drop_first=True)\n",
    "model = LinearRegression().fit(df[[\"x\", \"категория_B\"]], df[\"y\"])\n",
    "print(\"Коэффициенты:\", model.coef_)"
   ]
  },
  {
   "cell_type": "markdown",
   "id": "bcd75a48",
   "metadata": {},
   "source": [
    "**Задание:** Добавь категорию C и снова закодируй."
   ]
  },
  {
   "cell_type": "markdown",
   "id": "82da6f3b",
   "metadata": {},
   "source": [
    "## 📌 Пример 10. R² метрика\n",
    "\n",
    "**Теория:** R² показывает долю объяснённой дисперсии."
   ]
  },
  {
   "cell_type": "code",
   "execution_count": 30,
   "id": "e116f571",
   "metadata": {},
   "outputs": [
    {
     "name": "stdout",
     "output_type": "stream",
     "text": [
      "R²: 1.0\n"
     ]
    }
   ],
   "source": [
    "from sklearn.metrics import r2_score\n",
    "\n",
    "X = np.array([[1], [2], [3], [4], [5]])\n",
    "y = np.array([2, 4, 6, 8, 10])\n",
    "\n",
    "model = LinearRegression().fit(X, y)\n",
    "y_pred = model.predict(X)\n",
    "print(\"R²:\", r2_score(y, y_pred))"
   ]
  },
  {
   "cell_type": "markdown",
   "id": "321e880f",
   "metadata": {},
   "source": [
    "**Задание:** Попробуй испортить данные шумом и сравни R²."
   ]
  },
  {
   "cell_type": "markdown",
   "id": "39f63cac",
   "metadata": {},
   "source": [
    "## 📌 Пример 11. Разделение train/test\n",
    "\n",
    "**Теория:** Обучаем модель на части данных и проверяем на другой."
   ]
  },
  {
   "cell_type": "code",
   "execution_count": 31,
   "id": "a027e049",
   "metadata": {},
   "outputs": [
    {
     "name": "stdout",
     "output_type": "stream",
     "text": [
      "Качество на тесте: 1.0\n"
     ]
    }
   ],
   "source": [
    "from sklearn.model_selection import train_test_split\n",
    "\n",
    "X = np.array([[1], [2], [3], [4], [5], [6], [7], [8]])\n",
    "y = np.array([2, 4, 6, 8, 10, 12, 14, 16])\n",
    "\n",
    "X_train, X_test, y_train, y_test = train_test_split(X, y, test_size=0.25, random_state=42)\n",
    "model = LinearRegression().fit(X_train, y_train)\n",
    "print(\"Качество на тесте:\", model.score(X_test, y_test))"
   ]
  },
  {
   "cell_type": "markdown",
   "id": "f8ca55e8",
   "metadata": {},
   "source": [
    "**Задание:** Сделай test_size=0.5 и сравни результаты."
   ]
  },
  {
   "cell_type": "markdown",
   "id": "dfb7f908",
   "metadata": {},
   "source": [
    "## 📌 Пример 12. Кросс-валидация\n",
    "\n",
    "**Теория:** Кросс-валидация проверяет устойчивость модели."
   ]
  },
  {
   "cell_type": "code",
   "execution_count": 32,
   "id": "dd7809a7",
   "metadata": {},
   "outputs": [
    {
     "name": "stdout",
     "output_type": "stream",
     "text": [
      "Кросс-валидация (R²): [1. 1. 1. 1.]\n"
     ]
    }
   ],
   "source": [
    "from sklearn.model_selection import cross_val_score\n",
    "\n",
    "scores = cross_val_score(LinearRegression(), X, y, cv=4)\n",
    "print(\"Кросс-валидация (R²):\", scores)"
   ]
  },
  {
   "cell_type": "markdown",
   "id": "8b6ab41c",
   "metadata": {},
   "source": [
    "**Задание:** Попробуй cv=2 и сравни распределение оценок."
   ]
  },
  {
   "cell_type": "markdown",
   "id": "1d7fd4b6",
   "metadata": {},
   "source": [
    "## 📌 Пример 13. Регрессия на датасете Diabetes\n",
    "\n",
    "**Теория:** Реальный медицинский датасет."
   ]
  },
  {
   "cell_type": "code",
   "execution_count": 33,
   "id": "f0703bd5",
   "metadata": {},
   "outputs": [
    {
     "name": "stdout",
     "output_type": "stream",
     "text": [
      "R²: 0.5177484222203499\n"
     ]
    }
   ],
   "source": [
    "from sklearn.datasets import load_diabetes\n",
    "\n",
    "data = load_diabetes()\n",
    "X, y = data.data, data.target\n",
    "\n",
    "model = LinearRegression().fit(X, y)\n",
    "print(\"R²:\", model.score(X, y))"
   ]
  },
  {
   "cell_type": "markdown",
   "id": "67dcf75b",
   "metadata": {},
   "source": [
    "**Задание:** Попробуй Ridge вместо LinearRegression."
   ]
  },
  {
   "cell_type": "markdown",
   "id": "2ca90ec4",
   "metadata": {},
   "source": [
    "## 📌 Пример 14. Дерево решений\n",
    "\n",
    "**Теория:** Нелинейная регрессия с помощью дерева."
   ]
  },
  {
   "cell_type": "code",
   "execution_count": 34,
   "id": "bcc42bee",
   "metadata": {},
   "outputs": [
    {
     "name": "stdout",
     "output_type": "stream",
     "text": [
      "Прогноз для x=6: [25.]\n"
     ]
    }
   ],
   "source": [
    "from sklearn.tree import DecisionTreeRegressor\n",
    "\n",
    "X = np.array([[1], [2], [3], [4], [5]])\n",
    "y = np.array([1, 4, 9, 16, 25])\n",
    "\n",
    "tree = DecisionTreeRegressor(max_depth=2).fit(X, y)\n",
    "print(\"Прогноз для x=6:\", tree.predict([[6]]))"
   ]
  },
  {
   "cell_type": "markdown",
   "id": "d05b7186",
   "metadata": {},
   "source": [
    "**Задание:** Увеличь глубину дерева до 3 и проверь результат."
   ]
  },
  {
   "cell_type": "markdown",
   "id": "a93e6b2e",
   "metadata": {},
   "source": [
    "## 📌 Пример 15. Случайный лес\n",
    "\n",
    "**Теория:** Объединение многих деревьев повышает точность."
   ]
  },
  {
   "cell_type": "code",
   "execution_count": 35,
   "id": "29a03ee0",
   "metadata": {},
   "outputs": [
    {
     "name": "stdout",
     "output_type": "stream",
     "text": [
      "Прогноз для x=6: [21.21]\n"
     ]
    }
   ],
   "source": [
    "from sklearn.ensemble import RandomForestRegressor\n",
    "\n",
    "forest = RandomForestRegressor(n_estimators=100, random_state=42).fit(X, y)\n",
    "print(\"Прогноз для x=6:\", forest.predict([[6]]))"
   ]
  },
  {
   "cell_type": "markdown",
   "id": "4171ce5e",
   "metadata": {},
   "source": [
    "**Задание:** Попробуй n_estimators=10 и сравни результат."
   ]
  },
  {
   "cell_type": "markdown",
   "id": "c9da4ba2",
   "metadata": {},
   "source": [
    "## 📌 Пример 16. Градиентный бустинг\n",
    "\n",
    "**Теория:** Бустинг улучшает модель шаг за шагом."
   ]
  },
  {
   "cell_type": "code",
   "execution_count": 36,
   "id": "cb7f60b0",
   "metadata": {},
   "outputs": [
    {
     "name": "stdout",
     "output_type": "stream",
     "text": [
      "Прогноз для x=6: [24.99962814]\n"
     ]
    }
   ],
   "source": [
    "from sklearn.ensemble import GradientBoostingRegressor\n",
    "\n",
    "gbr = GradientBoostingRegressor().fit(X, y)\n",
    "print(\"Прогноз для x=6:\", gbr.predict([[6]]))"
   ]
  },
  {
   "cell_type": "markdown",
   "id": "df215031",
   "metadata": {},
   "source": [
    "**Задание:** Попробуй max_depth=3 и сравни результат."
   ]
  },
  {
   "cell_type": "markdown",
   "id": "56c2607e",
   "metadata": {},
   "source": [
    "## 📌 Пример 17. Регрессия с шумом\n",
    "\n",
    "**Теория:** Даже при шуме модель находит тренд."
   ]
  },
  {
   "cell_type": "code",
   "execution_count": 37,
   "id": "64314803",
   "metadata": {},
   "outputs": [
    {
     "data": {
      "image/png": "[encoded data removed]",
      "text/plain": [
       "<Figure size 640x480 with 1 Axes>"
      ]
     },
     "metadata": {},
     "output_type": "display_data"
    }
   ],
   "source": [
    "np.random.seed(42)\n",
    "X = np.linspace(0, 10, 50).reshape(-1, 1)\n",
    "y = 3 * X.squeeze() + 7 + np.random.randn(50) * 2\n",
    "\n",
    "model = LinearRegression().fit(X, y)\n",
    "\n",
    "import matplotlib.pyplot as plt\n",
    "plt.scatter(X, y, color=\"blue\")\n",
    "plt.plot(X, model.predict(X), color=\"red\")\n",
    "plt.title(\"Регрессия с шумом\")\n",
    "plt.show()"
   ]
  },
  {
   "cell_type": "markdown",
   "id": "122c63ea",
   "metadata": {},
   "source": [
    "**Задание:** Увеличь разброс шума и сравни график."
   ]
  },
  {
   "cell_type": "markdown",
   "id": "e6420d99",
   "metadata": {},
   "source": [
    "## 📌 Пример 18. Полиномиальная регрессия 3-й степени\n",
    "\n",
    "**Теория:** Полином 3-й степени лучше подстраивается под данные."
   ]
  },
  {
   "cell_type": "code",
   "execution_count": 38,
   "id": "0799f1e9",
   "metadata": {},
   "outputs": [
    {
     "data": {
      "image/png": "[encoded data removed]",
      "text/plain": [
       "<Figure size 640x480 with 1 Axes>"
      ]
     },
     "metadata": {},
     "output_type": "display_data"
    }
   ],
   "source": [
    "poly = PolynomialFeatures(degree=3)\n",
    "X_poly = poly.fit_transform(X)\n",
    "model = LinearRegression().fit(X_poly, y)\n",
    "\n",
    "plt.scatter(X, y, color=\"blue\")\n",
    "plt.plot(X, model.predict(X_poly), color=\"red\")\n",
    "plt.title(\"Полиномиальная регрессия (3 степень)\")\n",
    "plt.show()"
   ]
  },
  {
   "cell_type": "markdown",
   "id": "244ee116",
   "metadata": {},
   "source": [
    "**Задание:** Попробуй степень=5 и сравни переобучение."
   ]
  },
  {
   "cell_type": "markdown",
   "id": "29ab4076",
   "metadata": {},
   "source": [
    "## 📌 Пример 19. Метрики MAE, MSE, RMSE\n",
    "\n",
    "**Теория:** Оценка качества модели с помощью ошибок."
   ]
  },
  {
   "cell_type": "code",
   "execution_count": 39,
   "id": "80b8c310",
   "metadata": {},
   "outputs": [
    {
     "name": "stdout",
     "output_type": "stream",
     "text": [
      "MAE: 1.4173011634409454 MSE: 3.061168204807978 RMSE: 1.749619445710403\n"
     ]
    }
   ],
   "source": [
    "from sklearn.metrics import mean_absolute_error, mean_squared_error\n",
    "\n",
    "y_pred = model.predict(X_poly)\n",
    "mae = mean_absolute_error(y, y_pred)\n",
    "mse = mean_squared_error(y, y_pred)\n",
    "rmse = np.sqrt(mse)\n",
    "print(\"MAE:\", mae, \"MSE:\", mse, \"RMSE:\", rmse)"
   ]
  },
  {
   "cell_type": "markdown",
   "id": "5aab0341",
   "metadata": {},
   "source": [
    "**Задание:** Попробуй модель LinearRegression без полинома и сравни метрики."
   ]
  },
  {
   "cell_type": "markdown",
   "id": "c1359865",
   "metadata": {},
   "source": [
    "## 📌 Пример 20. Регрессия для временного ряда\n",
    "\n",
    "**Теория:** Линейная регрессия может прогнозировать тренды."
   ]
  },
  {
   "cell_type": "code",
   "execution_count": 40,
   "id": "a97bee10",
   "metadata": {},
   "outputs": [
    {
     "data": {
      "image/png": "[encoded data removed]",
      "text/plain": [
       "<Figure size 640x480 with 1 Axes>"
      ]
     },
     "metadata": {},
     "output_type": "display_data"
    }
   ],
   "source": [
    "time = np.arange(1, 21).reshape(-1, 1)\n",
    "sales = np.array([5, 7, 9, 12, 15, 18, 21, 25, 28, 30,\n",
    "                  33, 36, 39, 41, 44, 47, 50, 52, 55, 58])\n",
    "\n",
    "model = LinearRegression().fit(time, sales)\n",
    "\n",
    "plt.plot(time, sales, \"o\", label=\"фактические\")\n",
    "plt.plot(time, model.predict(time), \"r-\", label=\"тренд\")\n",
    "plt.legend()\n",
    "plt.title(\"Регрессия для временного ряда\")\n",
    "plt.show()"
   ]
  },
  {
   "cell_type": "markdown",
   "id": "7b3c319f",
   "metadata": {},
   "source": [
    "**Задание:** Добавь новые данные (21–25 дни) и спрогнозируй продажи."
   ]
  }
 ],
 "metadata": {
  "kernelspec": {
   "display_name": "Python 3",
   "language": "python",
   "name": "python3"
  },
  "language_info": {
   "codemirror_mode": {
    "name": "ipython",
    "version": 3
   },
   "file_extension": ".py",
   "mimetype": "text/x-python",
   "name": "python",
   "nbconvert_exporter": "python",
   "pygments_lexer": "ipython3",
   "version": "3.12.1"
  }
 },
 "nbformat": 4,
 "nbformat_minor": 5
}
